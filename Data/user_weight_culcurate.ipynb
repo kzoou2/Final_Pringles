{
 "cells": [
  {
   "cell_type": "markdown",
   "id": "60fb7c83",
   "metadata": {},
   "source": [
    "### 사용자 입력 가중치 계산"
   ]
  },
  {
   "cell_type": "code",
   "execution_count": null,
   "id": "f8fe51b0",
   "metadata": {},
   "outputs": [],
   "source": [
    "# 가중치 계산\n",
    "def carculate_weights(priceweight, ratingweight, reviewweight):\n",
    "    totalweight = priceweight+ratingweight+reviewweight\n",
    "    \n",
    "    if totalweight != 0:    \n",
    "        priceweight /= totalweight\n",
    "        ratingweight /= totalweight\n",
    "        reviewweight /= totalweight\n",
    "\n",
    "    if priceweight == ratingweight == reviewweight:\n",
    "        adjust_weights(priceperior,ratingprior,reviewprior)\n",
    "        \n",
    "    return priceweight, ratingweight, reviewweight\n",
    "\n",
    "\n",
    "\n",
    "# 계산가중치 동일시 우선순위 반영 계산 \n",
    "def adjust_weights(priceprior, ratingprior, reviewprior):\n",
    "    if priceprior == 1:\n",
    "        priceweight = 0.3\n",
    "    elif priceprior == 2:\n",
    "        priceweight = 0.2\n",
    "    elif priceprior == 3:\n",
    "        priceweight = 0.1\n",
    "\n",
    "    if ratingprior == 1:\n",
    "        ratingweight = 0.3\n",
    "    elif ratingprior == 2:\n",
    "        ratingweight = 0.2\n",
    "    elif ratingprior == 3:\n",
    "        ratingweight = 0.1\n",
    "\n",
    "    if reviewprior == 1:\n",
    "        reviewweight = 0.3\n",
    "    elif reviewprior == 2:\n",
    "        reviewweight = 0.2\n",
    "    elif reviewprior == 3:\n",
    "        reviewweight = 0.1\n",
    "\n",
    "    # 조정된 값들의 총합이 1이 되도록 조정\n",
    "    total = priceweight + reviewweight + ratingweight\n",
    "    adjustment_factor = 1 / total\n",
    "    priceweight *= adjustment_factor\n",
    "    reviewweight *= adjustment_factor\n",
    "    ratingweight *= adjustment_factor\n",
    "\n",
    "    return priceweight, ratingweight, reviewweight"
   ]
  },
  {
   "cell_type": "code",
   "execution_count": null,
   "id": "acc9115c",
   "metadata": {},
   "outputs": [],
   "source": []
  }
 ],
 "metadata": {
  "kernelspec": {
   "display_name": "Python 3 (ipykernel)",
   "language": "python",
   "name": "python3"
  },
  "language_info": {
   "codemirror_mode": {
    "name": "ipython",
    "version": 3
   },
   "file_extension": ".py",
   "mimetype": "text/x-python",
   "name": "python",
   "nbconvert_exporter": "python",
   "pygments_lexer": "ipython3",
   "version": "3.10.9"
  }
 },
 "nbformat": 4,
 "nbformat_minor": 5
}
